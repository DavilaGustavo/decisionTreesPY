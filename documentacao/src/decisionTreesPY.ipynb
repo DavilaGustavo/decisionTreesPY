{
 "cells": [
  {
   "cell_type": "markdown",
   "id": "0ffb433a-397f-4d3c-b992-97a21dee1a21",
   "metadata": {},
   "source": [
    "## Decision Trees\n",
    "### Utilização das árvores de decisão para a escolha de um resultado\n",
    "\n",
    "Utilizado neste projeto, a árvore resulta na escolha de comprar ou não um carro baseado em suas caracteristicas.\n",
    "\n",
    "O trabalho pode ser modificado e utilizado para outros contextos com as devidas adaptações."
   ]
  },
  {
   "cell_type": "markdown",
   "id": "a80543c9-0298-43da-aac0-a9a2c01eebb7",
   "metadata": {},
   "source": [
    "Inicialmente, importaremos as bibliotecas necessarias para tratar os dados."
   ]
  },
  {
   "cell_type": "code",
   "execution_count": 10,
   "id": "ce38d77a-e241-49c6-8668-8ffda2690137",
   "metadata": {},
   "outputs": [],
   "source": [
    "import numpy as np\n",
    "import pandas as pd\n",
    "from sklearn import tree"
   ]
  },
  {
   "cell_type": "markdown",
   "id": "4ed1d84b-0c0f-4033-afc6-9205e8319ed5",
   "metadata": {},
   "source": [
    "Importando o arquivo .csv:"
   ]
  },
  {
   "cell_type": "code",
   "execution_count": 11,
   "id": "73935097-7dfb-47ba-b161-4efc28471816",
   "metadata": {},
   "outputs": [],
   "source": [
    "arquivo = \"inputFile.csv\"\n",
    "df = pd.read_csv(arquivo, header = 0)"
   ]
  },
  {
   "cell_type": "markdown",
   "id": "57c883f3-d96a-49ff-9d9d-072c0c12015d",
   "metadata": {},
   "source": [
    "Apresentando o gráfico obtemos:\n",
    "* preco = Preço do carro (mil reais)\n",
    "* ano = Ano de fabricação\n",
    "* km = Quilometragem rodada\n",
    "* transmissao = Tipo de transmissão\n",
    "* portas = Auto explicativo\n",
    "* acidentes = Histórico de acidentes\n",
    "* comprar = Decisão final"
   ]
  },
  {
   "cell_type": "code",
   "execution_count": 12,
   "id": "54710dc8-3188-474a-8adf-57ef0ba4849a",
   "metadata": {},
   "outputs": [
    {
     "data": {
      "text/html": [
       "<div>\n",
       "<style scoped>\n",
       "    .dataframe tbody tr th:only-of-type {\n",
       "        vertical-align: middle;\n",
       "    }\n",
       "\n",
       "    .dataframe tbody tr th {\n",
       "        vertical-align: top;\n",
       "    }\n",
       "\n",
       "    .dataframe thead th {\n",
       "        text-align: right;\n",
       "    }\n",
       "</style>\n",
       "<table border=\"1\" class=\"dataframe\">\n",
       "  <thead>\n",
       "    <tr style=\"text-align: right;\">\n",
       "      <th></th>\n",
       "      <th>preco</th>\n",
       "      <th>ano</th>\n",
       "      <th>km</th>\n",
       "      <th>transmissao</th>\n",
       "      <th>portas</th>\n",
       "      <th>acidentes</th>\n",
       "      <th>comprar</th>\n",
       "    </tr>\n",
       "  </thead>\n",
       "  <tbody>\n",
       "    <tr>\n",
       "      <th>0</th>\n",
       "      <td>21</td>\n",
       "      <td>2014</td>\n",
       "      <td>135</td>\n",
       "      <td>manual</td>\n",
       "      <td>4</td>\n",
       "      <td>Nao</td>\n",
       "      <td>Sim</td>\n",
       "    </tr>\n",
       "    <tr>\n",
       "      <th>1</th>\n",
       "      <td>65</td>\n",
       "      <td>2022</td>\n",
       "      <td>40</td>\n",
       "      <td>auto</td>\n",
       "      <td>4</td>\n",
       "      <td>Nao</td>\n",
       "      <td>Nao</td>\n",
       "    </tr>\n",
       "    <tr>\n",
       "      <th>2</th>\n",
       "      <td>30</td>\n",
       "      <td>2018</td>\n",
       "      <td>51</td>\n",
       "      <td>manual</td>\n",
       "      <td>2</td>\n",
       "      <td>Sim</td>\n",
       "      <td>Nao</td>\n",
       "    </tr>\n",
       "    <tr>\n",
       "      <th>3</th>\n",
       "      <td>18</td>\n",
       "      <td>2013</td>\n",
       "      <td>95</td>\n",
       "      <td>manual</td>\n",
       "      <td>4</td>\n",
       "      <td>Nao</td>\n",
       "      <td>Sim</td>\n",
       "    </tr>\n",
       "    <tr>\n",
       "      <th>4</th>\n",
       "      <td>17</td>\n",
       "      <td>2015</td>\n",
       "      <td>75</td>\n",
       "      <td>auto</td>\n",
       "      <td>4</td>\n",
       "      <td>Sim</td>\n",
       "      <td>Sim</td>\n",
       "    </tr>\n",
       "  </tbody>\n",
       "</table>\n",
       "</div>"
      ],
      "text/plain": [
       "   preco   ano   km transmissao  portas acidentes comprar\n",
       "0     21  2014  135      manual       4       Nao     Sim\n",
       "1     65  2022   40        auto       4       Nao     Nao\n",
       "2     30  2018   51      manual       2       Sim     Nao\n",
       "3     18  2013   95      manual       4       Nao     Sim\n",
       "4     17  2015   75        auto       4       Sim     Sim"
      ]
     },
     "execution_count": 12,
     "metadata": {},
     "output_type": "execute_result"
    }
   ],
   "source": [
    "df.head()"
   ]
  },
  {
   "cell_type": "code",
   "execution_count": 13,
   "id": "2ee16780-b700-4008-a8f7-1ec082b5e607",
   "metadata": {},
   "outputs": [
    {
     "data": {
      "text/html": [
       "<div>\n",
       "<style scoped>\n",
       "    .dataframe tbody tr th:only-of-type {\n",
       "        vertical-align: middle;\n",
       "    }\n",
       "\n",
       "    .dataframe tbody tr th {\n",
       "        vertical-align: top;\n",
       "    }\n",
       "\n",
       "    .dataframe thead th {\n",
       "        text-align: right;\n",
       "    }\n",
       "</style>\n",
       "<table border=\"1\" class=\"dataframe\">\n",
       "  <thead>\n",
       "    <tr style=\"text-align: right;\">\n",
       "      <th></th>\n",
       "      <th>preco</th>\n",
       "      <th>ano</th>\n",
       "      <th>km</th>\n",
       "      <th>transmissao</th>\n",
       "      <th>portas</th>\n",
       "      <th>acidentes</th>\n",
       "      <th>comprar</th>\n",
       "    </tr>\n",
       "  </thead>\n",
       "  <tbody>\n",
       "    <tr>\n",
       "      <th>0</th>\n",
       "      <td>21</td>\n",
       "      <td>2014</td>\n",
       "      <td>135</td>\n",
       "      <td>0</td>\n",
       "      <td>4</td>\n",
       "      <td>0</td>\n",
       "      <td>1</td>\n",
       "    </tr>\n",
       "    <tr>\n",
       "      <th>1</th>\n",
       "      <td>65</td>\n",
       "      <td>2022</td>\n",
       "      <td>40</td>\n",
       "      <td>1</td>\n",
       "      <td>4</td>\n",
       "      <td>0</td>\n",
       "      <td>0</td>\n",
       "    </tr>\n",
       "    <tr>\n",
       "      <th>2</th>\n",
       "      <td>30</td>\n",
       "      <td>2018</td>\n",
       "      <td>51</td>\n",
       "      <td>0</td>\n",
       "      <td>2</td>\n",
       "      <td>1</td>\n",
       "      <td>0</td>\n",
       "    </tr>\n",
       "    <tr>\n",
       "      <th>3</th>\n",
       "      <td>18</td>\n",
       "      <td>2013</td>\n",
       "      <td>95</td>\n",
       "      <td>0</td>\n",
       "      <td>4</td>\n",
       "      <td>0</td>\n",
       "      <td>1</td>\n",
       "    </tr>\n",
       "    <tr>\n",
       "      <th>4</th>\n",
       "      <td>17</td>\n",
       "      <td>2015</td>\n",
       "      <td>75</td>\n",
       "      <td>1</td>\n",
       "      <td>4</td>\n",
       "      <td>1</td>\n",
       "      <td>1</td>\n",
       "    </tr>\n",
       "  </tbody>\n",
       "</table>\n",
       "</div>"
      ],
      "text/plain": [
       "   preco   ano   km  transmissao  portas  acidentes  comprar\n",
       "0     21  2014  135            0       4          0        1\n",
       "1     65  2022   40            1       4          0        0\n",
       "2     30  2018   51            0       2          1        0\n",
       "3     18  2013   95            0       4          0        1\n",
       "4     17  2015   75            1       4          1        1"
      ]
     },
     "execution_count": 13,
     "metadata": {},
     "output_type": "execute_result"
    }
   ],
   "source": [
    "d = {'Sim': 1, 'Nao': 0}\n",
    "df['comprar'] = df['comprar'].map(d)\n",
    "df['acidentes'] = df['acidentes'].map(d)\n",
    "d = {'manual': 0, 'auto': 1}\n",
    "df['transmissao'] = df['transmissao'].map(d)\n",
    "df.head()"
   ]
  },
  {
   "cell_type": "markdown",
   "id": "ffde59c6-6ccc-44ab-82c3-11fed2fc6b94",
   "metadata": {},
   "source": [
    "Agora, separamos as colunas como features para utilizar na árvore de decisão."
   ]
  },
  {
   "cell_type": "code",
   "execution_count": 14,
   "id": "9f361d8a-9fca-4953-bc2a-e78d2f98dd4c",
   "metadata": {},
   "outputs": [
    {
     "data": {
      "text/plain": [
       "['preco', 'ano', 'km', 'transmissao', 'portas', 'acidentes']"
      ]
     },
     "execution_count": 14,
     "metadata": {},
     "output_type": "execute_result"
    }
   ],
   "source": [
    "features = list(df.columns[:6])\n",
    "features"
   ]
  },
  {
   "cell_type": "markdown",
   "id": "320de8b8-495b-41cf-889e-62d11ca316df",
   "metadata": {},
   "source": [
    "Construindo a árvore:"
   ]
  },
  {
   "cell_type": "code",
   "execution_count": 15,
   "id": "f671c309-2644-41ce-9d12-066d024b4226",
   "metadata": {},
   "outputs": [],
   "source": [
    "y = df[\"comprar\"]\n",
    "x = df[features]\n",
    "clf = tree.DecisionTreeClassifier()\n",
    "clf = clf.fit(x,y)"
   ]
  },
  {
   "cell_type": "markdown",
   "id": "dcfa63c6-dc76-4b3c-ac26-34f4fb525ba4",
   "metadata": {},
   "source": [
    "Apresentando a árvore em formato de gráfico:"
   ]
  },
  {
   "cell_type": "code",
   "execution_count": 16,
   "id": "f9e1c388-bed7-49f9-ab35-d8ac37b071d8",
   "metadata": {},
   "outputs": [
    {
     "data": {
      "image/png": "[encoded data removed]",
      "text/plain": [
       "<IPython.core.display.Image object>"
      ]
     },
     "execution_count": 16,
     "metadata": {},
     "output_type": "execute_result"
    }
   ],
   "source": [
    "from IPython.display import Image  \n",
    "from io import StringIO  \n",
    "import pydotplus\n",
    "\n",
    "dot_data = StringIO()\n",
    "tree.export_graphviz(clf, out_file=dot_data,\n",
    "                         feature_names=features)\n",
    "graph = pydotplus.graph_from_dot_data(dot_data.getvalue())\n",
    "Image(graph.create_png())"
   ]
  },
  {
   "cell_type": "markdown",
   "id": "ff3cc813-352f-4938-9b4b-4bdb211f3235",
   "metadata": {},
   "source": [
    "Por fim, utilizaremos a árvore criada para gerar um modelo que prediz se o carro será ou não comprado."
   ]
  },
  {
   "cell_type": "code",
   "execution_count": 17,
   "id": "58735f11-e4ec-4cea-b08f-d2abd044bce0",
   "metadata": {},
   "outputs": [
    {
     "name": "stdout",
     "output_type": "stream",
     "text": [
      "[1]\n",
      "[1]\n"
     ]
    }
   ],
   "source": [
    "from sklearn.ensemble import RandomForestClassifier\n",
    "\n",
    "clf = RandomForestClassifier(n_estimators=10)\n",
    "clf = clf.fit(x, y)\n",
    "\n",
    "new_data = pd.DataFrame([[19, 2014, 50, 1, 2, 0],      # Veiculo barato, quilometragem baixa, 2 portas e sem acidentes\n",
    "                         [42, 2018, 120, 0, 4, 1]],    # Veiculo caro, quilometragem média, 4 portas e com acidentes\n",
    "                         columns=features)\n",
    "print(clf.predict(new_data.iloc[0:1, :]))\n",
    "print(clf.predict(new_data.iloc[1:2, :]))"
   ]
  }
 ],
 "metadata": {
  "kernelspec": {
   "display_name": "Python 3 (ipykernel)",
   "language": "python",
   "name": "python3"
  },
  "language_info": {
   "codemirror_mode": {
    "name": "ipython",
    "version": 3
   },
   "file_extension": ".py",
   "mimetype": "text/x-python",
   "name": "python",
   "nbconvert_exporter": "python",
   "pygments_lexer": "ipython3",
   "version": "3.12.2"
  }
 },
 "nbformat": 4,
 "nbformat_minor": 5
}
